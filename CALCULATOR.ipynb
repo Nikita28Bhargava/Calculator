{
 "cells": [
  {
   "cell_type": "code",
   "execution_count": 1,
   "metadata": {},
   "outputs": [
    {
     "name": "stdout",
     "output_type": "stream",
     "text": [
      "ENTER YOUR FIRST NUMBER :10\n",
      "ENTER YOUR SECOND NUMBER :5\n",
      "CHOOSE ONE OPERATION FROM (+,-,*,/) :/\n",
      "10 / 5 = 2.0\n"
     ]
    }
   ],
   "source": [
    "# BASIC CALCULATOR\n",
    "\n",
    "def addition(a,b):               # performs addition\n",
    "    c=a+b\n",
    "    return c\n",
    "def subtraction(a,b):            # performs subtraction\n",
    "    c=a-b\n",
    "    return c\n",
    "def multiplication(a,b):         # performs multiplication\n",
    "    c=a*b\n",
    "    return c\n",
    "def division(a,b):               # performs division\n",
    "    c=a/b\n",
    "    return c\n",
    "while (1):\n",
    "    a=int(input(\"ENTER YOUR FIRST NUMBER :\"))\n",
    "    b=int(input(\"ENTER YOUR SECOND NUMBER :\"))\n",
    "    choice=input(\"CHOOSE ONE OPERATION FROM (+,-,*,/) :\")\n",
    "    if choice==\"+\":\n",
    "        ans=addition(a,b)\n",
    "    if choice==\"-\":\n",
    "        ans=subtraction(a,b)\n",
    "    if choice==\"*\":\n",
    "        ans=multiplication(a,b)\n",
    "    if choice==\"/\":\n",
    "        ans=division(a,b)\n",
    "    print(f\"{a} {choice} {b} = {ans}\")\n",
    "    break"
   ]
  },
  {
   "cell_type": "code",
   "execution_count": null,
   "metadata": {},
   "outputs": [],
   "source": []
  }
 ],
 "metadata": {
  "kernelspec": {
   "display_name": "Python 3",
   "language": "python",
   "name": "python3"
  },
  "language_info": {
   "codemirror_mode": {
    "name": "ipython",
    "version": 3
   },
   "file_extension": ".py",
   "mimetype": "text/x-python",
   "name": "python",
   "nbconvert_exporter": "python",
   "pygments_lexer": "ipython3",
   "version": "3.8.5"
  }
 },
 "nbformat": 4,
 "nbformat_minor": 4
}
